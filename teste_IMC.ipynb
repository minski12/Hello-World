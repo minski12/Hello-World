{
  "nbformat": 4,
  "nbformat_minor": 0,
  "metadata": {
    "colab": {
      "name": "teste_IMC.ipynb",
      "provenance": [],
      "authorship_tag": "ABX9TyO4QQTRlYk71DGfYN8NbvlB",
      "include_colab_link": true
    },
    "kernelspec": {
      "name": "python3",
      "display_name": "Python 3"
    },
    "language_info": {
      "name": "python"
    }
  },
  "cells": [
    {
      "cell_type": "markdown",
      "metadata": {
        "id": "view-in-github",
        "colab_type": "text"
      },
      "source": [
        "<a href=\"https://colab.research.google.com/github/rafaelminski/Hello-World/blob/main/teste_IMC.ipynb\" target=\"_parent\"><img src=\"https://colab.research.google.com/assets/colab-badge.svg\" alt=\"Open In Colab\"/></a>"
      ]
    },
    {
      "cell_type": "code",
      "execution_count": 14,
      "metadata": {
        "colab": {
          "base_uri": "https://localhost:8080/"
        },
        "id": "PnTCqi7B4K04",
        "outputId": "84cb5e2e-d436-4339-8861-0fd2ea252bcb"
      },
      "outputs": [
        {
          "output_type": "stream",
          "name": "stdout",
          "text": [
            "digite seu peso em kg 88\n",
            "digite sua altura em m 1.77\n",
            "Sobrepeso\n"
          ]
        }
      ],
      "source": [
        "peso=float(input(\"digite seu peso em kg \"))\n",
        "altura=float(input(\"digite sua altura em m \"))\n",
        "imc = peso/altura**2\n",
        "\n",
        "if imc < 18.5:\n",
        "        print(\"Baixo peso\")\n",
        "elif imc < 25:\n",
        "        print(\"Peso adequado\")\n",
        "elif imc < 30:\n",
        "        print(\"Sobrepeso\")\n",
        "else:\n",
        "        print(\"Obeso\")"
      ]
    }
  ]
}