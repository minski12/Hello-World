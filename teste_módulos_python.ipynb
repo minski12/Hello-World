{
  "nbformat": 4,
  "nbformat_minor": 0,
  "metadata": {
    "colab": {
      "name": "teste_módulos_python.ipynb",
      "provenance": [],
      "authorship_tag": "ABX9TyNBq5VLgLWTRKCf3KG49aIV",
      "include_colab_link": true
    },
    "kernelspec": {
      "name": "python3",
      "display_name": "Python 3"
    },
    "language_info": {
      "name": "python"
    }
  },
  "cells": [
    {
      "cell_type": "markdown",
      "metadata": {
        "id": "view-in-github",
        "colab_type": "text"
      },
      "source": [
        "<a href=\"https://colab.research.google.com/github/rafaelminski/Hello-World/blob/main/teste_m%C3%B3dulos_python.ipynb\" target=\"_parent\"><img src=\"https://colab.research.google.com/assets/colab-badge.svg\" alt=\"Open In Colab\"/></a>"
      ]
    },
    {
      "cell_type": "code",
      "execution_count": null,
      "metadata": {
        "id": "3JYxI6PZQbSq"
      },
      "outputs": [],
      "source": [
        "from datetime import datetime\n",
        "import random\n",
        "import time\n",
        "odds = [ 1, 3, 5, 7, 9, 11, 13, 15, 17, 19, 21, 23, 25, 27, 29, 31, 33, 35, 37, 39, 41, 43, 45, 47, 49, 51, 53, 55, 57, 59 ]\n",
        "right_this_minute = datetime.today().minute\n",
        "for i in range(5):\n",
        "  if right_this_minute in odds :\n",
        "    print(\"this minute seems a little odd.\")\n",
        "  else:\n",
        "    print(\"not an odd minute.\")\n",
        "  wait_time = random.randint(1,60)\n",
        "  time.sleep(wait_time)"
      ]
    }
  ]
}